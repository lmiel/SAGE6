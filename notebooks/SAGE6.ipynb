{
 "cells": [
  {
   "cell_type": "code",
   "execution_count": null,
   "id": "aeb702e0",
   "metadata": {},
   "outputs": [],
   "source": [
    "Genera una lista de 1000 enteros aleatorios en el ntervalo [−100, 100] y calcula su media."
   ]
  },
  {
   "cell_type": "code",
   "execution_count": 6,
   "id": "e817e0fc",
   "metadata": {},
   "outputs": [
    {
     "name": "stdout",
     "output_type": "stream",
     "text": [
      "-0.482\n"
     ]
    }
   ],
   "source": [
    "from random import randint\n",
    "import numpy as np\n",
    "lista = [randint(-100,100)for i in range(0,1000)]\n",
    "media = np.mean(lista)\n",
    "print(media)"
   ]
  },
  {
   "cell_type": "code",
   "execution_count": null,
   "id": "3e4ecdce",
   "metadata": {},
   "outputs": [],
   "source": [
    "Las alturas de ocho estudiantes, medidas en pulgadas, son 71, 73, 59, 62, 65, 61, 73, 61. Calcula la media, la mediana y la moda de estas alturas."
   ]
  },
  {
   "cell_type": "code",
   "execution_count": 11,
   "id": "f72f63f2",
   "metadata": {},
   "outputs": [
    {
     "name": "stdout",
     "output_type": "stream",
     "text": [
      "Media:  65.625\n",
      "Mediana:  63.5\n",
      "Moda:  61\n"
     ]
    }
   ],
   "source": [
    "import numpy as np\n",
    "import statistics as st\n",
    "alturas= [71, 73, 59, 62, 65, 61, 73, 61]\n",
    "alturas.sort()\n",
    "print(\"Media: \", np.mean(alturas))\n",
    "print(\"Mediana: \", np.median(alturas))\n",
    "print(\"Moda: \", st.mode(alturas))"
   ]
  },
  {
   "cell_type": "code",
   "execution_count": null,
   "id": "17bc8943",
   "metadata": {},
   "outputs": [],
   "source": [
    "Usando los mismos datos, calcula la desviación típica y la varianza de las alturas de la muestra."
   ]
  },
  {
   "cell_type": "code",
   "execution_count": 18,
   "id": "f58b1e62",
   "metadata": {},
   "outputs": [
    {
     "name": "stdout",
     "output_type": "stream",
     "text": [
      "Desviación típica:  5.452923527796809\n",
      "Varianza:  2.3351495728960936\n"
     ]
    }
   ],
   "source": [
    "import numpy as np\n",
    "import statistics as st\n",
    "alturas= [71, 73, 59, 62, 65, 61, 73, 61]\n",
    "print(\"Desviación típica: \", np.std(alturas))\n",
    "print(\"Varianza: \", sqrt(np.std(alturas)))"
   ]
  },
  {
   "cell_type": "code",
   "execution_count": null,
   "id": "0c56a537",
   "metadata": {},
   "outputs": [],
   "source": [
    "Calcula el rango de la muestra de alturas anterior."
   ]
  },
  {
   "cell_type": "code",
   "execution_count": 19,
   "id": "53389766",
   "metadata": {},
   "outputs": [
    {
     "name": "stdout",
     "output_type": "stream",
     "text": [
      "Range:  14\n"
     ]
    }
   ],
   "source": [
    "alturas= [71, 73, 59, 62, 65, 61, 73, 61]\n",
    "range = max(alturas)-min(alturas)\n",
    "print(\"Range: \", range)"
   ]
  },
  {
   "cell_type": "code",
   "execution_count": null,
   "id": "2b0e6bae",
   "metadata": {},
   "outputs": [],
   "source": []
  }
 ],
 "metadata": {
  "kernelspec": {
   "display_name": "SageMath 9.7",
   "language": "sage",
   "name": "sagemath-9.7"
  },
  "language_info": {
   "codemirror_mode": {
    "name": "ipython",
    "version": 3
   },
   "file_extension": ".py",
   "mimetype": "text/x-python",
   "name": "python",
   "nbconvert_exporter": "python",
   "pygments_lexer": "ipython3",
   "version": "3.10.5"
  }
 },
 "nbformat": 4,
 "nbformat_minor": 5
}
